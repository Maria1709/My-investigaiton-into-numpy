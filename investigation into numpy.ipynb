{
 "cells": [
  {
   "cell_type": "markdown",
   "metadata": {},
   "source": [
    "# Investigation into Numpy .random package"
   ]
  },
  {
   "cell_type": "markdown",
   "metadata": {},
   "source": [
    "The overall purpose of the NumPy. Random package is for scientific computing with python. It has a powerful N-dimensional array object, some sophisticated functions, tools for integrating C/C++ and Fortran code. It’s also used for linear algebra, Fourier transform and random number capabilities. NumPy can also be used as an efficient multidimensional container of generic data, this means that arbitrary data types can be defined allowing NumPy to be faster and more efficient at working with other databases. "
   ]
  },
  {
   "cell_type": "markdown",
   "metadata": {},
   "source": [
    "Numpy.random.rand This function gives random values in a given shape, for example you can have ? amount of rows, columns or overall depth. Eg:"
   ]
  },
  {
   "cell_type": "code",
   "execution_count": 2,
   "metadata": {
    "collapsed": true
   },
   "outputs": [],
   "source": [
    "import pandas as pd"
   ]
  },
  {
   "cell_type": "code",
   "execution_count": 18,
   "metadata": {
    "collapsed": true
   },
   "outputs": [],
   "source": [
    "#load the Anscombe data set from a URL\n",
    "\n",
    "df = pd.read_csv(\"https://raw.githubusercontent.com/vincentarelbundock/Rdatasets/master/csv/datasets/anscombe.csv\")"
   ]
  },
  {
   "cell_type": "code",
   "execution_count": 19,
   "metadata": {},
   "outputs": [
    {
     "data": {
      "text/html": [
       "<div>\n",
       "<style>\n",
       "    .dataframe thead tr:only-child th {\n",
       "        text-align: right;\n",
       "    }\n",
       "\n",
       "    .dataframe thead th {\n",
       "        text-align: left;\n",
       "    }\n",
       "\n",
       "    .dataframe tbody tr th {\n",
       "        vertical-align: top;\n",
       "    }\n",
       "</style>\n",
       "<table border=\"1\" class=\"dataframe\">\n",
       "  <thead>\n",
       "    <tr style=\"text-align: right;\">\n",
       "      <th></th>\n",
       "      <th>Unnamed: 0</th>\n",
       "      <th>x1</th>\n",
       "      <th>x2</th>\n",
       "      <th>x3</th>\n",
       "      <th>x4</th>\n",
       "      <th>y1</th>\n",
       "      <th>y2</th>\n",
       "      <th>y3</th>\n",
       "      <th>y4</th>\n",
       "    </tr>\n",
       "  </thead>\n",
       "  <tbody>\n",
       "    <tr>\n",
       "      <th>0</th>\n",
       "      <td>1</td>\n",
       "      <td>10</td>\n",
       "      <td>10</td>\n",
       "      <td>10</td>\n",
       "      <td>8</td>\n",
       "      <td>8.04</td>\n",
       "      <td>9.14</td>\n",
       "      <td>7.46</td>\n",
       "      <td>6.58</td>\n",
       "    </tr>\n",
       "    <tr>\n",
       "      <th>1</th>\n",
       "      <td>2</td>\n",
       "      <td>8</td>\n",
       "      <td>8</td>\n",
       "      <td>8</td>\n",
       "      <td>8</td>\n",
       "      <td>6.95</td>\n",
       "      <td>8.14</td>\n",
       "      <td>6.77</td>\n",
       "      <td>5.76</td>\n",
       "    </tr>\n",
       "    <tr>\n",
       "      <th>2</th>\n",
       "      <td>3</td>\n",
       "      <td>13</td>\n",
       "      <td>13</td>\n",
       "      <td>13</td>\n",
       "      <td>8</td>\n",
       "      <td>7.58</td>\n",
       "      <td>8.74</td>\n",
       "      <td>12.74</td>\n",
       "      <td>7.71</td>\n",
       "    </tr>\n",
       "    <tr>\n",
       "      <th>3</th>\n",
       "      <td>4</td>\n",
       "      <td>9</td>\n",
       "      <td>9</td>\n",
       "      <td>9</td>\n",
       "      <td>8</td>\n",
       "      <td>8.81</td>\n",
       "      <td>8.77</td>\n",
       "      <td>7.11</td>\n",
       "      <td>8.84</td>\n",
       "    </tr>\n",
       "    <tr>\n",
       "      <th>4</th>\n",
       "      <td>5</td>\n",
       "      <td>11</td>\n",
       "      <td>11</td>\n",
       "      <td>11</td>\n",
       "      <td>8</td>\n",
       "      <td>8.33</td>\n",
       "      <td>9.26</td>\n",
       "      <td>7.81</td>\n",
       "      <td>8.47</td>\n",
       "    </tr>\n",
       "    <tr>\n",
       "      <th>5</th>\n",
       "      <td>6</td>\n",
       "      <td>14</td>\n",
       "      <td>14</td>\n",
       "      <td>14</td>\n",
       "      <td>8</td>\n",
       "      <td>9.96</td>\n",
       "      <td>8.10</td>\n",
       "      <td>8.84</td>\n",
       "      <td>7.04</td>\n",
       "    </tr>\n",
       "    <tr>\n",
       "      <th>6</th>\n",
       "      <td>7</td>\n",
       "      <td>6</td>\n",
       "      <td>6</td>\n",
       "      <td>6</td>\n",
       "      <td>8</td>\n",
       "      <td>7.24</td>\n",
       "      <td>6.13</td>\n",
       "      <td>6.08</td>\n",
       "      <td>5.25</td>\n",
       "    </tr>\n",
       "    <tr>\n",
       "      <th>7</th>\n",
       "      <td>8</td>\n",
       "      <td>4</td>\n",
       "      <td>4</td>\n",
       "      <td>4</td>\n",
       "      <td>19</td>\n",
       "      <td>4.26</td>\n",
       "      <td>3.10</td>\n",
       "      <td>5.39</td>\n",
       "      <td>12.50</td>\n",
       "    </tr>\n",
       "    <tr>\n",
       "      <th>8</th>\n",
       "      <td>9</td>\n",
       "      <td>12</td>\n",
       "      <td>12</td>\n",
       "      <td>12</td>\n",
       "      <td>8</td>\n",
       "      <td>10.84</td>\n",
       "      <td>9.13</td>\n",
       "      <td>8.15</td>\n",
       "      <td>5.56</td>\n",
       "    </tr>\n",
       "    <tr>\n",
       "      <th>9</th>\n",
       "      <td>10</td>\n",
       "      <td>7</td>\n",
       "      <td>7</td>\n",
       "      <td>7</td>\n",
       "      <td>8</td>\n",
       "      <td>4.82</td>\n",
       "      <td>7.26</td>\n",
       "      <td>6.42</td>\n",
       "      <td>7.91</td>\n",
       "    </tr>\n",
       "    <tr>\n",
       "      <th>10</th>\n",
       "      <td>11</td>\n",
       "      <td>5</td>\n",
       "      <td>5</td>\n",
       "      <td>5</td>\n",
       "      <td>8</td>\n",
       "      <td>5.68</td>\n",
       "      <td>4.74</td>\n",
       "      <td>5.73</td>\n",
       "      <td>6.89</td>\n",
       "    </tr>\n",
       "  </tbody>\n",
       "</table>\n",
       "</div>"
      ],
      "text/plain": [
       "    Unnamed: 0  x1  x2  x3  x4     y1    y2     y3     y4\n",
       "0            1  10  10  10   8   8.04  9.14   7.46   6.58\n",
       "1            2   8   8   8   8   6.95  8.14   6.77   5.76\n",
       "2            3  13  13  13   8   7.58  8.74  12.74   7.71\n",
       "3            4   9   9   9   8   8.81  8.77   7.11   8.84\n",
       "4            5  11  11  11   8   8.33  9.26   7.81   8.47\n",
       "5            6  14  14  14   8   9.96  8.10   8.84   7.04\n",
       "6            7   6   6   6   8   7.24  6.13   6.08   5.25\n",
       "7            8   4   4   4  19   4.26  3.10   5.39  12.50\n",
       "8            9  12  12  12   8  10.84  9.13   8.15   5.56\n",
       "9           10   7   7   7   8   4.82  7.26   6.42   7.91\n",
       "10          11   5   5   5   8   5.68  4.74   5.73   6.89"
      ]
     },
     "execution_count": 19,
     "metadata": {},
     "output_type": "execute_result"
    }
   ],
   "source": [
    "df"
   ]
  },
  {
   "cell_type": "code",
   "execution_count": 2,
   "metadata": {
    "collapsed": true
   },
   "outputs": [],
   "source": [
    "import numpy\n",
    "\n",
    "import numpy as np"
   ]
  },
  {
   "cell_type": "code",
   "execution_count": 11,
   "metadata": {
    "scrolled": true
   },
   "outputs": [
    {
     "data": {
      "text/plain": [
       "array([ 0.71063862,  0.81386193,  0.26746636,  0.84813873,  0.44510108,\n",
       "        0.48432536,  0.81780733,  0.76668575,  0.46695812,  0.13543939])"
      ]
     },
     "execution_count": 11,
     "metadata": {},
     "output_type": "execute_result"
    }
   ],
   "source": [
    "# ten random numbers form anscombes data set.\n",
    "x = np.random.rand(10)\n",
    "x"
   ]
  },
  {
   "cell_type": "code",
   "execution_count": 12,
   "metadata": {},
   "outputs": [
    {
     "data": {
      "image/png": "[encoded data removed]",
      "text/plain": [
       "<matplotlib.figure.Figure at 0x8ba9048>"
      ]
     },
     "metadata": {},
     "output_type": "display_data"
    }
   ],
   "source": [
    "# import matplotlib\n",
    "import matplotlib.pyplot as plt\n",
    "plt.hist(x)\n",
    "plt.show()"
   ]
  },
  {
   "cell_type": "code",
   "execution_count": 13,
   "metadata": {
    "collapsed": true
   },
   "outputs": [],
   "source": [
    "#this is random uniform\n",
    "x = np.random.uniform(0,10,100)"
   ]
  },
  {
   "cell_type": "code",
   "execution_count": 27,
   "metadata": {
    "scrolled": false
   },
   "outputs": [
    {
     "data": {
      "image/png": "[encoded data removed]",
      "text/plain": [
       "<matplotlib.figure.Figure at 0x5acd5c0>"
      ]
     },
     "metadata": {},
     "output_type": "display_data"
    }
   ],
   "source": [
    "plt.hist(x)\n",
    "plt.show()"
   ]
  },
  {
   "cell_type": "markdown",
   "metadata": {},
   "source": [
    "# Simple random data"
   ]
  },
  {
   "cell_type": "markdown",
   "metadata": {},
   "source": [
    "Simple Random data is similar to a random sample, as it is randomly selected, this method avoids bias and arguments or a chance that an individuals personal opinions or views could distort the datas reuslts. The word random in this scenario is not the exact same as the dictionary meaning of the word random, as it is not chosen without some sort of concious intention. there is a reason behind using this method. It is quiet complex even tho in theory it seems fairly simple. So down to a technical explanation of random data, or random sampling, is a set of n objects in a population of n objects where all possible samples are equally likely to happen.\n",
    "this is an example i came across."
   ]
  },
  {
   "cell_type": "markdown",
   "metadata": {},
   "source": [
    "Put 100 balls into a bowl(this is now the population n)\n",
    "If you imagine being asked then to select 10 balls from a bowl without looking (this is now our sample n)\n",
    "if you were to look this could bias the sample!!\n",
    "This is known as the lottery bowl method and works well with a small sample sie but in reality we would be expected to be working with a much larger sample population."
   ]
  },
  {
   "cell_type": "markdown",
   "metadata": {},
   "source": [
    "This method gives everyone a fair and equal chance to be in the selected sample. But bias is its downfall as it is very easy for it to creep in and effect the sample population. Now we will look at an example of how to perform simple random sampling. "
   ]
  },
  {
   "cell_type": "markdown",
   "metadata": {},
   "source": [
    "If we were to try to investigate how many people had autism in Ireland, this would be quiet hard to obtain and where would we look for this information. Even if we did obtain such a list it would be in the thousands alot more than out lottery bowl method could manage to deal with so this method of random sampling wuld not be efficient or effective in obtaining the results we require. So how do we do it?\n",
    "1. Make a List - of all the diagnostic centres.\n",
    "2. Assign a sequential no to each centre. This will in turn become our sampling frame where we will draw our simple random sample.\n",
    "3. Decide what our sample sie will be!\n",
    "4. Use a random number generator to select the sample, this can be taken form our sampling frame. If this sample was 50 nand our population size was 500 then you generate 50 random numbers between 1-500.\n"
   ]
  },
  {
   "cell_type": "code",
   "execution_count": 14,
   "metadata": {},
   "outputs": [
    {
     "data": {
      "text/plain": [
       "array([ 0.08848973,  0.81975211,  0.30100101,  0.92927797,  0.89779627,\n",
       "        0.40722754,  0.7725023 ,  0.1186059 ,  0.65361175,  0.25542038])"
      ]
     },
     "execution_count": 14,
     "metadata": {},
     "output_type": "execute_result"
    }
   ],
   "source": [
    "# ten random numbers form anscombes data set.\n",
    "x = np.random.rand(10)\n",
    "x"
   ]
  },
  {
   "cell_type": "markdown",
   "metadata": {},
   "source": [
    "#The data above i have rerun to show that random means random because each time we run it we will see that we get a different reuslt."
   ]
  },
  {
   "cell_type": "markdown",
   "metadata": {},
   "source": [
    "# Permutations"
   ]
  },
  {
   "cell_type": "markdown",
   "metadata": {},
   "source": [
    "Permutation tests are also called exact tests, randomization tests or re-randomizations tests, these are non parametric tests to test the null pypythsis that two different groups come from the same distribution. A permutation test can be used for either significance or hypthesis testing without having to make any assumptions about the sampling distribution. \n",
    "Treatment = Control under the null pypothesis, there are n and m permutations where n = number of records in the treatmetn sample, and m = is the numner of records in the control sample. in a 2 sided test we define the alternative hypothesis saying that the two samples are different. Eg treatemtn! = control.\n",
    "Layout for this is \n",
    "1. compute the difference of sample x and y.\n",
    "2. combine total measurements into a single dataset\n",
    "3. draw a permuted dataset for all possible permutations in dataset  in 2\n",
    "4. devide this dataset into 2 x & y of size n & m \n",
    "5. compute difference which is the mean of  x & y\n",
    "6. and then all we have to do then is repeat steps 3-5 until we have covered all permutations\n",
    "7. then return the p value as the no of times the difference form the original value and then devide this by the no of total permutations.\n",
    "Example of a permutation test below"
   ]
  },
  {
   "cell_type": "code",
   "execution_count": 10,
   "metadata": {},
   "outputs": [
    {
     "data": {
      "text/plain": [
       "array([ 0.8983524 ,  0.90655272,  0.80294288,  0.39473967,  0.4945817 ,\n",
       "        0.07228575,  0.37447956,  0.59473079,  0.20067274,  0.4825464 ])"
      ]
     },
     "execution_count": 10,
     "metadata": {},
     "output_type": "execute_result"
    }
   ],
   "source": [
    "# this actualy does the same as above but gives a copy.\n",
    "np.random.permutation(x)"
   ]
  },
  {
   "cell_type": "code",
   "execution_count": 11,
   "metadata": {},
   "outputs": [
    {
     "data": {
      "text/plain": [
       "array([5, 1, 4, 0, 9, 6, 7, 8, 3, 2])"
      ]
     },
     "execution_count": 11,
     "metadata": {},
     "output_type": "execute_result"
    }
   ],
   "source": [
    "#when given an integer n the permuation treats it as an array arrange(n)\n",
    "np.random.permutation(10)"
   ]
  },
  {
   "cell_type": "markdown",
   "metadata": {},
   "source": [
    "# Numpy.random.rand"
   ]
  },
  {
   "cell_type": "markdown",
   "metadata": {},
   "source": [
    "Numpy.random.rand\n",
    "This function gives random values in a given shape, for example you can have ? amount of rows, columns or overall depth.\n",
    "An ndarray is a generic multidimensional container for homogenous data which is simple terms means that all of the data must be of the same type. Each has a shape, a tuple which ndicates teh size of each dimesion adn the dtype  this means the object the describes the data type of the array.\n",
    "\n",
    "\"Parameters:\t\n",
    "\n",
    "d0, d1, …, dn : int, optional\n",
    "\n",
    "    The dimensions of the returned array, should all be positive. If no argument is given a single Python float is returned.\n",
    "\n",
    "Returns:\t\n",
    "\n",
    "out : ndarray, shape (d0, d1, ..., dn)\n",
    "\n",
    "    Random values.\"\n"
   ]
  },
  {
   "cell_type": "code",
   "execution_count": 5,
   "metadata": {},
   "outputs": [
    {
     "data": {
      "text/plain": [
       "array([ 0.8983524 ,  0.80294288,  0.4825464 ,  0.37447956,  0.07228575,\n",
       "        0.59473079,  0.4945817 ,  0.39473967,  0.20067274,  0.90655272])"
      ]
     },
     "execution_count": 5,
     "metadata": {},
     "output_type": "execute_result"
    }
   ],
   "source": [
    "# creates an array of the given shape\n",
    "\n",
    "x = np.random.rand(10)\n",
    "x"
   ]
  },
  {
   "cell_type": "markdown",
   "metadata": {},
   "source": [
    "# numpy.random uniform"
   ]
  },
  {
   "cell_type": "code",
   "execution_count": 4,
   "metadata": {
    "scrolled": true
   },
   "outputs": [
    {
     "ename": "NameError",
     "evalue": "name 'x' is not defined",
     "output_type": "error",
     "traceback": [
      "\u001b[1;31m---------------------------------------------------------------------------\u001b[0m",
      "\u001b[1;31mNameError\u001b[0m                                 Traceback (most recent call last)",
      "\u001b[1;32m<ipython-input-4-ddbe95e2ecd0>\u001b[0m in \u001b[0;36m<module>\u001b[1;34m()\u001b[0m\n\u001b[0;32m      1\u001b[0m \u001b[1;31m# import matplotlib\u001b[0m\u001b[1;33m\u001b[0m\u001b[1;33m\u001b[0m\u001b[0m\n\u001b[0;32m      2\u001b[0m \u001b[1;32mimport\u001b[0m \u001b[0mmatplotlib\u001b[0m\u001b[1;33m.\u001b[0m\u001b[0mpyplot\u001b[0m \u001b[1;32mas\u001b[0m \u001b[0mplt\u001b[0m\u001b[1;33m\u001b[0m\u001b[0m\n\u001b[1;32m----> 3\u001b[1;33m \u001b[0mplt\u001b[0m\u001b[1;33m.\u001b[0m\u001b[0mhist\u001b[0m\u001b[1;33m(\u001b[0m\u001b[0mx\u001b[0m\u001b[1;33m)\u001b[0m\u001b[1;33m\u001b[0m\u001b[0m\n\u001b[0m\u001b[0;32m      4\u001b[0m \u001b[0mplt\u001b[0m\u001b[1;33m.\u001b[0m\u001b[0mshow\u001b[0m\u001b[1;33m(\u001b[0m\u001b[1;33m)\u001b[0m\u001b[1;33m\u001b[0m\u001b[0m\n\u001b[0;32m      5\u001b[0m \u001b[1;33m\u001b[0m\u001b[0m\n",
      "\u001b[1;31mNameError\u001b[0m: name 'x' is not defined"
     ]
    }
   ],
   "source": [
    "# import matplotlib\n",
    "import matplotlib.pyplot as plt\n",
    "plt.hist(x)\n",
    "plt.show()\n",
    "\n",
    "\n",
    "\n",
    "x = np.random.uniform(0,10,100)"
   ]
  },
  {
   "cell_type": "code",
   "execution_count": 9,
   "metadata": {},
   "outputs": [
    {
     "data": {
      "text/plain": [
       "array([ 0.4945817 ,  0.20067274,  0.59473079,  0.39473967,  0.07228575,\n",
       "        0.37447956,  0.90655272,  0.8983524 ,  0.4825464 ,  0.80294288])"
      ]
     },
     "execution_count": 9,
     "metadata": {},
     "output_type": "execute_result"
    }
   ],
   "source": [
    "# shuffling occurs in place for efficiency.\n",
    "np.random.shuffle(x)\n",
    "x"
   ]
  },
  {
   "cell_type": "code",
   "execution_count": 6,
   "metadata": {},
   "outputs": [
    {
     "data": {
      "text/plain": [
       "array([ 0.4945817 ,  0.80294288,  0.37447956,  0.8983524 ,  0.90655272,\n",
       "        0.07228575,  0.39473967,  0.4825464 ,  0.20067274,  0.59473079])"
      ]
     },
     "execution_count": 6,
     "metadata": {},
     "output_type": "execute_result"
    }
   ],
   "source": [
    "# Shuffling collumns, instead transpose first before shuffling.\n",
    "np.random.shuffle(x.T)\n",
    "x"
   ]
  },
  {
   "cell_type": "markdown",
   "metadata": {},
   "source": [
    "# Numpy.random.choice"
   ]
  },
  {
   "cell_type": "markdown",
   "metadata": {},
   "source": [
    "Generates a random sample given from a 1-d array\n",
    "parameters = if an ndarray, a random sample is generated from its elements. If an int, the random sample is generated as if a were np.arange(a)\n",
    "\n",
    "Output shape. If the given shape is for example (m, n, k), then m * n * k samples are takenm the default will be none,and a single value will be returned. \n",
    "\n",
    "If the sample is with or without replacement\n",
    "\n",
    "p : 1-D array-like, optional\n",
    "then i\n",
    "The probabilities associated with each entry in A. If we are not given the sample then it presumes that a uniform distribution over all otehr inpupts."
   ]
  },
  {
   "cell_type": "markdown",
   "metadata": {},
   "source": [
    "Returns = sample = single item ndarray, generated random samples"
   ]
  },
  {
   "cell_type": "markdown",
   "metadata": {},
   "source": [
    "Raises: valueError = if A is an integer less than 0, or if A or P are not 1 dimensional if a is an array-like of size 0, if p is not a vector of probabilities, if a and p have different lengths, or if replace=False and the sample size is greater than the population size"
   ]
  },
  {
   "cell_type": "code",
   "execution_count": 8,
   "metadata": {},
   "outputs": [
    {
     "name": "stdout",
     "output_type": "stream",
     "text": [
      "<module 'numpy.random' from 'C:\\\\ProgramData\\\\Anaconda3\\\\lib\\\\site-packages\\\\numpy\\\\random\\\\__init__.py'>\n"
     ]
    }
   ],
   "source": [
    "import random\n",
    "from scipy import *\n",
    "print(random)"
   ]
  },
  {
   "cell_type": "code",
   "execution_count": 15,
   "metadata": {},
   "outputs": [
    {
     "data": {
      "text/plain": [
       "array([0, 3, 4])"
      ]
     },
     "execution_count": 15,
     "metadata": {},
     "output_type": "execute_result"
    }
   ],
   "source": [
    "#this is the same as np.radom.randint.\n",
    "np.random.choice(5, 3)\n",
    "array([0, 3, 4])"
   ]
  },
  {
   "cell_type": "code",
   "execution_count": 16,
   "metadata": {},
   "outputs": [
    {
     "data": {
      "text/plain": [
       "array([3, 3, 0])"
      ]
     },
     "execution_count": 16,
     "metadata": {},
     "output_type": "execute_result"
    }
   ],
   "source": [
    "np.random.choice(5, 3, p=[0.1, 0, 0.3, 0.6, 0])\n",
    "array([3, 3, 0])"
   ]
  },
  {
   "cell_type": "code",
   "execution_count": 17,
   "metadata": {},
   "outputs": [
    {
     "data": {
      "text/plain": [
       "array([3, 1, 0])"
      ]
     },
     "execution_count": 17,
     "metadata": {},
     "output_type": "execute_result"
    }
   ],
   "source": [
    "#This is the same as np.random.permutation\n",
    "np.random.choice(5, 3, replace=False)\n",
    "array([3,1,0])"
   ]
  },
  {
   "cell_type": "code",
   "execution_count": 18,
   "metadata": {},
   "outputs": [
    {
     "data": {
      "text/plain": [
       "array([2, 3, 0])"
      ]
     },
     "execution_count": 18,
     "metadata": {},
     "output_type": "execute_result"
    }
   ],
   "source": [
    "np.random.choice(5, 3, replace=False, p=[0.1, 0, 0.3, 0.6, 0])\n",
    "array([2, 3, 0])"
   ]
  },
  {
   "cell_type": "code",
   "execution_count": 19,
   "metadata": {},
   "outputs": [
    {
     "data": {
      "text/plain": [
       "array([ 0.81975211,  0.89779627,  0.25542038,  0.7725023 ,  0.1186059 ,\n",
       "        0.65361175,  0.08848973,  0.92927797,  0.40722754,  0.30100101])"
      ]
     },
     "execution_count": 19,
     "metadata": {},
     "output_type": "execute_result"
    }
   ],
   "source": [
    "np.random.shuffle(x.T)\n",
    "x"
   ]
  },
  {
   "cell_type": "code",
   "execution_count": 20,
   "metadata": {},
   "outputs": [
    {
     "data": {
      "text/plain": [
       "array([ 0.89779627,  0.92927797,  0.25542038,  0.81975211,  0.65361175,\n",
       "        0.08848973,  0.1186059 ,  0.30100101,  0.7725023 ,  0.40722754])"
      ]
     },
     "execution_count": 20,
     "metadata": {},
     "output_type": "execute_result"
    }
   ],
   "source": [
    "np.random.permutation(x)"
   ]
  },
  {
   "cell_type": "markdown",
   "metadata": {},
   "source": [
    "# Numpy.random.beta"
   ]
  },
  {
   "cell_type": "markdown",
   "metadata": {},
   "source": [
    "Numpy.random.beta is a special case of the Dirichlet distribution, and is also realted to the Gamma distribution. it includes the probality distibtution function, where the normalisation B is the beta function. \n",
    "These are the parameters = 1,float or array like of floats (alpha/non negative)2, float or array like of floats (beta/non negative) 3. size = int or tuple of ints, optional (output shape if given) \n",
    "Eg: e.g., (m, n, k), then m * n * k samples are drawn. If size is None (default), a single value is returned if a and b are both scalars. Otherwise, np.broadcast(a, b).size samples are drawn.\n",
    "\n",
    "Returns: our = ndarray or scalar (samples drawn from teh parameterized beta distribution."
   ]
  },
  {
   "cell_type": "markdown",
   "metadata": {},
   "source": [
    "# Numpy.random.binomial"
   ]
  },
  {
   "cell_type": "markdown",
   "metadata": {},
   "source": [
    "This draws samples from a binomial distribution with specified parameters, n trials and p probablility of success where n an integere >=0 and p is in the interval between 0-1, it may be inputted as a flaot but in turn will be changed into an integer. Below are the parameter and returns\n",
    "Parameters:\t\n",
    "\n",
    "n : int or array_like of ints\n",
    "\n",
    "p : float or array_like of floats\n",
    "\n",
    "    This is the Parameter of the distribution, >= 0 and <=1.\n",
    "size : int or tuple of ints, optional\n",
    "\n",
    "    Output shape. If the given shape is, e.g., (m, n, k), then m * n * k samples are drawn. If size is None (default), a single value is returned if n and p are both scalars. Otherwise, np.broadcast(n, p).size samples are drawn.\n",
    "\n",
    "Returns:\t\n",
    "\n",
    "out : ndarray or scalar\n"
   ]
  },
  {
   "cell_type": "markdown",
   "metadata": {},
   "source": [
    "#n is the number of trial and p is the probability of success and then n is the number of successed. if we were trying to estimate the standard error of the proportion of the population bu using the random sample then the normal distribution works well  under the prduct p*n and x<5, where p is the population proportion estimate. where n is the no of samples in which case the binomial distribution is used instead.\n",
    "example is 4 people with autism and 11 without autism, then p = 4/15 = 27%, then 0.27*15 = 4. showing the binomial distribution should be used in this case.\n"
   ]
  },
  {
   "cell_type": "markdown",
   "metadata": {},
   "source": [
    "# Numpy.random.poisson"
   ]
  },
  {
   "cell_type": "markdown",
   "metadata": {},
   "source": [
    "Drawing samples from the poisson distribution, the limit of the binomial distribution for large N.\n",
    "\n",
    "below are the parameters and the returns.\n",
    "Parameters:\t\n",
    "\n",
    "lam : float or array_like of floats\n",
    "\n",
    "    Expectation of interval, should be >= 0. A sequence of expectation intervals must be broadcastable over the requested size.\n",
    "size : int or tuple of ints, optional\n",
    "\n",
    "    Output shape. If the given shape is, e.g., (m, n, k), then m * n * k samples are drawn. If size is None (default), a single value is returned if lam is a scalar. Otherwise, np.array(lam).size samples are drawn.\n",
    "\n",
    "Returns:\t\n",
    "\n",
    "out : ndarray or scalar\n"
   ]
  },
  {
   "cell_type": "code",
   "execution_count": 81,
   "metadata": {
    "collapsed": true
   },
   "outputs": [],
   "source": [
    "# Draw samples from the distribution\n",
    "import numpy as np\n",
    "s = np.random.poisson(5, 10000)"
   ]
  },
  {
   "cell_type": "code",
   "execution_count": 84,
   "metadata": {},
   "outputs": [
    {
     "data": {
      "image/png": "[encoded data removed]",
      "text/plain": [
       "<matplotlib.figure.Figure at 0xa6eb9e8>"
      ]
     },
     "metadata": {},
     "output_type": "display_data"
    }
   ],
   "source": [
    "# show histogram\n",
    "import matplotlib.pyplot as plt\n",
    "count, bins, ignored = plt.hist(s, 14, density=True)\n",
    "plt.show()"
   ]
  },
  {
   "cell_type": "code",
   "execution_count": 87,
   "metadata": {
    "collapsed": true
   },
   "outputs": [],
   "source": [
    "# draw 100 values from 100-500\n",
    "s = np.random.poisson(lam=(100., 500.), size=(100, 2))"
   ]
  },
  {
   "cell_type": "markdown",
   "metadata": {},
   "source": [
    "For events with an expected separation the poisson distribution descibes the propbability of the events occurring within that observed interval, output is ltd to range c long type and a value error is raised when lam is with 10 signma maximum value represented."
   ]
  },
  {
   "cell_type": "markdown",
   "metadata": {},
   "source": [
    "# Seeds in generating pseudorandom numbers\n"
   ]
  },
  {
   "cell_type": "markdown",
   "metadata": {},
   "source": [
    "The generator asks you, or the machine, or a special chip for a number to start with. This is now your seed, this can be absolutely anything that the computer is capable of understanding that is made up of bits. Now that we have a seed the system is able to runa ssequences of functions in order to get numbers that will look random but they actually are not really ranadom numbers as they have been deterministically chosen and generated but statiticaly they view as random data. \n",
    "But as we know that each time you run a set of data that is random you will get a different answer each time, this is how they get the name pseudo-random numbers, and the generator is called a pseudo-random number generator.\n"
   ]
  },
  {
   "cell_type": "code",
   "execution_count": 75,
   "metadata": {},
   "outputs": [
    {
     "data": {
      "image/png": "[encoded data removed]",
      "text/plain": [
       "<matplotlib.figure.Figure at 0xa5ed128>"
      ]
     },
     "metadata": {},
     "output_type": "display_data"
    }
   ],
   "source": [
    "# generating a random sample seed, and plotting it on a histogram.\n",
    "import pylab\n",
    "import random\n",
    "random.seed(113)\n",
    "samples = 1000\n",
    "dice = []\n",
    "for i in range(samples):\n",
    "    total = random.randint(1,6) + random.randint(1,6)\n",
    "    dice.append(total)\n",
    "pylab.hist(dice, bins= pylab.arange(1.5,12.6,1.0))\n",
    "pylab.show()\n"
   ]
  },
  {
   "cell_type": "code",
   "execution_count": 21,
   "metadata": {},
   "outputs": [
    {
     "data": {
      "text/plain": [
       "array([ 0.81975211,  0.30100101,  0.65361175,  0.1186059 ,  0.89779627,\n",
       "        0.7725023 ,  0.40722754,  0.92927797,  0.08848973,  0.25542038])"
      ]
     },
     "execution_count": 21,
     "metadata": {},
     "output_type": "execute_result"
    }
   ],
   "source": [
    "#Run a random permuation test.\n",
    "np.random.permutation(x)"
   ]
  },
  {
   "cell_type": "code",
   "execution_count": 22,
   "metadata": {},
   "outputs": [
    {
     "data": {
      "text/plain": [
       "array([7, 0, 6, 5, 8, 4, 9, 2, 3, 1])"
      ]
     },
     "execution_count": 22,
     "metadata": {},
     "output_type": "execute_result"
    }
   ],
   "source": [
    "# When given an integre n, permutation treats is as the array arange(n)\n",
    "np.random.permutation(10)"
   ]
  },
  {
   "cell_type": "code",
   "execution_count": 77,
   "metadata": {},
   "outputs": [
    {
     "ename": "SyntaxError",
     "evalue": "Missing parentheses in call to 'print'. Did you mean print(\"Please throw two \"dice\", samples, \"times.\")? (<ipython-input-77-be32d9aae078>, line 12)",
     "output_type": "error",
     "traceback": [
      "\u001b[1;36m  File \u001b[1;32m\"<ipython-input-77-be32d9aae078>\"\u001b[1;36m, line \u001b[1;32m12\u001b[0m\n\u001b[1;33m    print \"Please throw two \"dice\", samples, \"times.\"\u001b[0m\n\u001b[1;37m                            ^\u001b[0m\n\u001b[1;31mSyntaxError\u001b[0m\u001b[1;31m:\u001b[0m Missing parentheses in call to 'print'. Did you mean print(\"Please throw two \"dice\", samples, \"times.\")?\n"
     ]
    }
   ],
   "source": [
    "import pylab\n",
    "import random\n",
    "\n",
    "random.seed(120)\n",
    "\n",
    "samples = 1000\n",
    "dice = []\n",
    "for i in range(samples):\n",
    "        total = random.randint(1,8) + random.randint(1,8)\n",
    "        dice.append(total)\n",
    "        \n",
    "print \"Please throw two dice\", samples, \"times.\"\n",
    "print \"Mean of\", pylab.median(dice)\n",
    "print \"std dev\", pylab.std(dice)\n",
    "\n",
    "pylab.hist(dice, bins= pylab.arrange(1.5,14.2,1.0))\n",
    "pylab.xlabel('pips')\n",
    "pylab.ylabel('count')\n",
    "pylab.show()\n",
    "\n"
   ]
  }
 ],
 "metadata": {
  "kernelspec": {
   "display_name": "Python 3",
   "language": "python",
   "name": "python3"
  },
  "language_info": {
   "codemirror_mode": {
    "name": "ipython",
    "version": 3
   },
   "file_extension": ".py",
   "mimetype": "text/x-python",
   "name": "python",
   "nbconvert_exporter": "python",
   "pygments_lexer": "ipython3",
   "version": "3.6.3"
  }
 },
 "nbformat": 4,
 "nbformat_minor": 2
}
